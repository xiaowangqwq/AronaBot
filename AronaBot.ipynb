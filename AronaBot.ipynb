{
  "nbformat": 4,
  "nbformat_minor": 0,
  "metadata": {
    "colab": {
      "provenance": [],
      "toc_visible": true,
      "include_colab_link": true
    },
    "kernelspec": {
      "name": "python3",
      "display_name": "Python 3"
    },
    "language_info": {
      "name": "python"
    }
  },
  "cells": [
    {
      "cell_type": "markdown",
      "metadata": {
        "id": "view-in-github",
        "colab_type": "text"
      },
      "source": [
        "<a href=\"https://colab.research.google.com/github/xiaowangqwq/AronaBot/blob/master/AronaBot.ipynb\" target=\"_parent\"><img src=\"https://colab.research.google.com/assets/colab-badge.svg\" alt=\"Open In Colab\"/></a>"
      ]
    },
    {
      "cell_type": "markdown",
      "source": [
        "**bot使用指南**:\n",
        "\n",
        "目前已有白名单的bot\n",
        "\n",
        "\n",
        "*   bot1\n",
        "*   bot2\n",
        "*   bot3\n",
        "*   bot4\n",
        "*   bot5\n",
        "*   bot6\n",
        "*   bot7\n",
        "*   bot8\n",
        "*   bot9\n",
        "*   bot10\n",
        "\n"
      ],
      "metadata": {
        "id": "kj40m_FGU59w"
      }
    },
    {
      "cell_type": "markdown",
      "source": [
        "**更新日志**"
      ],
      "metadata": {
        "id": "P9UrM6VAWn29"
      }
    },
    {
      "cell_type": "code",
      "source": [
        "# @title 检查依赖项\n",
        "!curl -fsSL https://raw.githubusercontent.com/tj/n/master/bin/n | bash -s lts > /dev/null\n",
        "!node --version\n",
        "!python --version\n",
        "!pip install javascript\n",
        "from javascript import require, On, Once, AsyncTask, once, off\n",
        "mineflayer = require('mineflayer')"
      ],
      "metadata": {
        "id": "vMxR8jUWXiRt"
      },
      "execution_count": null,
      "outputs": []
    },
    {
      "cell_type": "code",
      "source": [
        "# @title 准备依赖环境\n",
        "!git clone https://github.com/xiaowangqwq/AronaBot.git\n",
        "mineflayer = require('mineflayer')\n",
        "%cd AronaBot\n",
        "!pip install mineflayer\n",
        "!npm install mineflayer"
      ],
      "metadata": {
        "id": "JwUPsJWRPYSH"
      },
      "execution_count": null,
      "outputs": []
    },
    {
      "cell_type": "code",
      "source": [
        "# @title 启动！\n",
        "%cd /content/AronaBot\n",
        "botAmount = 5 # @param {type:\"number\"}\n",
        "import mineflayer\n",
        "!node AronaBot.js $botAmount"
      ],
      "metadata": {
        "id": "U1ZTznJHWY47"
      },
      "execution_count": null,
      "outputs": []
    },
    {
      "cell_type": "code",
      "source": [
        "# @title 启动bot(WIP)\n",
        "bot1Name = \"bot4\" # @param {type:\"string\"}\n",
        "bot2Name = \"bot5\" # @param {type:\"string\"}\n",
        "bot1 = mineflayer.createBot({'host': 'www.lizhiyu.vip',\"port\": 25565,\"version\": '1.20.4',\"username\":bot1Name,\"physicsEnabled\": \"false\",})\n",
        "bot2 = mineflayer.createBot({'host': 'www.lizhiyu.vip',\"port\": 25565,\"version\": '1.20.4',\"username\":bot2Name,\"physicsEnabled\": \"false\",})\n",
        "@On(bot1, 'playerJoin')\n",
        "def end(this, player):\n",
        "  bot1.chat('/register qwertyuiop1 qwertyuiop1')\n",
        "  bot1.chat('/login qwertyuiop1')\n",
        "  bot1.chat('1')\n",
        "@On(bot2, 'playerJoin')\n",
        "def end(this, player):\n",
        "  bot2.chat('/register qwertyuiop1 qwertyuiop1')\n",
        "  bot2.chat('/login qwertyuiop1');"
      ],
      "metadata": {
        "id": "LamvxTaAWbPu",
        "cellView": "form"
      },
      "execution_count": null,
      "outputs": []
    },
    {
      "cell_type": "code",
      "source": [
        "# @title 启动bot1主程序（WIP）\n",
        "\n",
        "is_attack = False\n",
        "attack_interval = None\n",
        "async def attack_loop(bot):\n",
        "    while is_attack:\n",
        "        entity = bot.nearest_entity()\n",
        "        if entity and entity['type'] != 'player' and entity['username'] != bot.username:\n",
        "            bot.attack(entity, swing=True)\n",
        "        await asyncio.sleep(0.5)\n",
        "@On(bot1, 'whisper')\n",
        "def onWhisperBot1(this, user, message, *rest):\n",
        "  print(f'{user} ： \"{message}\"')\n",
        "  if message == \"传送\":\n",
        "    print(\"收到传送请求\")\n",
        "    bot1.chat(f\"/tpa {user}\")\n",
        "  elif message == \"开启自动传送\":\n",
        "    print(\"已开启\")\n",
        "    bot1.chat(\"/tpauto\")\n",
        "  elif message == \"接受tpa\":\n",
        "    print(\"已接受tpa\")\n",
        "    bot1.chat(\"/tpaccpet\")\n",
        "  elif message == \"查看背包\":\n",
        "    print(\"收到查看背包请求\")\n",
        "    response = \"背包物品：\"\n",
        "    for item in bot1.inventory.items():\n",
        "      if item:\n",
        "        response += f\"{item['name']} x{item['count']}  \"\n",
        "\n",
        "      bot1.chat(f\"/minecraft:msg {user} {response}\")\n",
        "  elif message.startswith(\"使用 \"):\n",
        "        item_name = message[3:]  # 去掉\"使用 \"前缀得到物品名称\n",
        "        print(f\"尝试使用物品: {item_name}\")\n",
        "\n",
        "        item_to_equip = next((item for item in bot1.inventory.items() if item[\"name\"].lower().includes(item_name.lower())), None)\n",
        "        if item_to_equip:\n",
        "            print(f\"找到物品: {item_to_equip['name']}, 准备装备到主手...\")\n",
        "            try:\n",
        "                bot1.equip(item_to_equip, 'hand')\n",
        "                print(f\"物品 {item_name} 已装备到主手\")\n",
        "                bot1.chat(f\"/minecraft:msg {user} 已装备物品: {item_name}\")\n",
        "            except Exception as e:\n",
        "                print(f\"装备物品失败: {str(e)}\")\n",
        "                bot1.chat(f\"/minecraft:msg {user} 无法装备物品: {item_name}\")\n",
        "        else:\n",
        "            print(f\"背包中没有找到物品: {item_name}\")\n",
        "            bot1.chat(f\"/minecraft:msg {user} 背包中没有找到物品: {item_name}\")"
      ],
      "metadata": {
        "cellView": "form",
        "id": "lsW5v5BKnpJr"
      },
      "execution_count": null,
      "outputs": []
    },
    {
      "cell_type": "code",
      "source": [
        "# @title 启动bot2主程序(WIP)\n",
        "\n",
        "is_attack = False\n",
        "attack_interval = None\n",
        "async def attack_loop(bot):\n",
        "    while is_attack:\n",
        "        entity = bot.nearest_entity()\n",
        "        if entity and entity['type'] != 'player' and entity['username'] != bot.username:\n",
        "            bot.attack(entity, swing=True)\n",
        "        await asyncio.sleep(0.5)\n",
        "@On(bot1, 'whisper')\n",
        "def onWhisperBot1(this, user, message, *rest):\n",
        "  print(f'{user} ： \"{message}\"')\n",
        "  if message == \"传送\":\n",
        "    print(\"收到传送请求\")\n",
        "    bot1.chat(f\"/tpa {user}\")\n",
        "  elif message == \"开启自动传送\":\n",
        "    print(\"已开启\")\n",
        "    bot1.chat(\"/tpauto\")\n",
        "  elif message == \"接受tpa\":\n",
        "    print(\"已接受tpa\")\n",
        "    bot1.chat(\"/tpaccpet\")\n",
        "  elif message == \"查看背包\":\n",
        "    print(\"收到查看背包请求\")\n",
        "    response = \"背包物品：\"\n",
        "    for item in bot1.inventory.items():\n",
        "      if item:\n",
        "        response += f\"{item['name']} x{item['count']}  \"\n",
        "\n",
        "      bot1.chat(f\"/minecraft:msg {user} {response}\")\n",
        "  elif message.startswith(\"使用 \"):\n",
        "        item_name = message[3:]  # 去掉\"使用 \"前缀得到物品名称\n",
        "        print(f\"尝试使用物品: {item_name}\")\n",
        "\n",
        "        item_to_equip = next((item for item in bot1.inventory.items() if item[\"name\"].lower().includes(item_name.lower())), None)\n",
        "        if item_to_equip:\n",
        "            print(f\"找到物品: {item_to_equip['name']}, 准备装备到主手...\")\n",
        "            try:\n",
        "                bot1.equip(item_to_equip, 'hand')\n",
        "                print(f\"物品 {item_name} 已装备到主手\")\n",
        "                bot1.chat(f\"/minecraft:msg {user} 已装备物品: {item_name}\")\n",
        "            except Exception as e:\n",
        "                print(f\"装备物品失败: {str(e)}\")\n",
        "                bot1.chat(f\"/minecraft:msg {user} 无法装备物品: {item_name}\")\n",
        "        else:\n",
        "            print(f\"背包中没有找到物品: {item_name}\")\n",
        "            bot1.chat(f\"/minecraft:msg {user} 背包中没有找到物品: {item_name}\")\n",
        "async def on_whisper_bot1(this, user, message, *rest):\n",
        "    global is_attack, attack_interval\n",
        "\n",
        "    if message == \"开始攻击\":\n",
        "        print(\"已左键点击\")\n",
        "        is_attack = True\n",
        "        bot1.whisper(user, \"已开始攻击\")\n",
        "        if attack_interval is None:\n",
        "            attack_interval = asyncio.create_task(attack_loop(bot1))\n",
        "\n",
        "    if message == \"停止攻击\":\n",
        "        print(\"已停止攻击\")\n",
        "        is_attack = False\n",
        "        if attack_interval:\n",
        "            attack_interval.cancel()\n",
        "            attack_interval = None\n",
        "            bot1.whisper(user, \"已停止攻击\")\n",
        "        else:\n",
        "            bot1.whisper(user, \"当前并未进行攻击\")\n",
        "@On(bot2, 'chat')\n",
        "def onChatbot2(this, user, message, *rest):\n",
        "  print(f'{user} ： \"{message}\"')\n",
        "@On(bot2, 'whisper')\n",
        "def onWhisperbot2(this, user, message, *rest):\n",
        "  print(f'{user} ： \"{message}\"')\n",
        "  if message == \"传送\":\n",
        "    print(\"收到传送请求\")\n",
        "    bot2.chat(f\"/tpa {user}\")\n",
        "  elif message == \"开启自动传送\":\n",
        "    print(\"已开启\")\n",
        "    bot2.chat(\"/tpauto\")\n",
        "  elif message == \"接受tpa\":\n",
        "    print(\"已接受tpa\")\n",
        "    bot2.chat(\"/tpaccpet\")\n",
        "  elif message == \"查看背包\":\n",
        "    print(\"收到查看背包请求\")\n",
        "    response = \"背包物品：\"\n",
        "    for item in bot2.inventory.items():\n",
        "      if item:\n",
        "        response += f\"{item['name']} x{item['count']}  \"\n",
        "\n",
        "      bot2.chat(f\"/minecraft:msg {user} {response}\")\n",
        "  elif message.startswith(\"使用 \"):\n",
        "        item_name = message[3:]  # 去掉\"使用 \"前缀得到物品名称\n",
        "        print(f\"尝试使用物品: {item_name}\")\n",
        "\n",
        "        item_to_equip = next((item for item in bot2.inventory.items() if item[\"name\"].lower().includes(item_name.lower())), None)\n",
        "        if item_to_equip:\n",
        "            print(f\"找到物品: {item_to_equip['name']}, 准备装备到主手...\")\n",
        "            try:\n",
        "                bot2.equip(item_to_equip, 'hand')\n",
        "                print(f\"物品 {item_name} 已装备到主手\")\n",
        "                bot2.chat(f\"/minecraft:msg {user} 已装备物品: {item_name}\")\n",
        "            except Exception as e:\n",
        "                print(f\"装备物品失败: {str(e)}\")\n",
        "                bot2.chat(f\"/minecraft:msg {user} 无法装备物品: {item_name}\")\n",
        "        else:\n",
        "            print(f\"背包中没有找到物品: {item_name}\")\n",
        "            bot2.chat(f\"/minecraft:msg {user} 背包中没有找到物品: {item_name}\")\n",
        "async def on_whisper_bot2(this, user, message, *rest):\n",
        "    global is_attack, attack_interval\n",
        "\n",
        "    if message == \"开始攻击\":\n",
        "        print(\"已左键点击\")\n",
        "        is_attack = True\n",
        "        bot2.whisper(user, \"已开始攻击\")\n",
        "        if attack_interval is None:\n",
        "            attack_interval = asyncio.create_task(attack_loop(bot2))\n",
        "\n",
        "    if message == \"停止攻击\":\n",
        "        print(\"已停止攻击\")\n",
        "        is_attack = False\n",
        "        if attack_interval:\n",
        "            attack_interval.cancel()\n",
        "            attack_interval = None\n",
        "            bot2.whisper(user, \"已停止攻击\")\n",
        "        else:\n",
        "            bot2.whisper(user, \"当前并未进行攻击\")\n"
      ],
      "metadata": {
        "cellView": "form",
        "id": "9WaO3n23cZ2b"
      },
      "execution_count": null,
      "outputs": []
    },
    {
      "cell_type": "code",
      "source": [
        "@On(bot1, 'chat')\n",
        "def onChat(this, user, message, *rest):\n",
        "  bot1.chat(f'{user} 说： \"{message}\"')"
      ],
      "metadata": {
        "id": "zrP7W01Iyk9c"
      },
      "execution_count": null,
      "outputs": []
    }
  ]
}